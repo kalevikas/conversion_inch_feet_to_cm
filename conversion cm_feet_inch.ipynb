{
 "cells": [
  {
   "cell_type": "markdown",
   "id": "cf4f8590",
   "metadata": {},
   "source": [
    "## Write a program to convert feet and inches to centimeter.\n",
    "\n",
    "- 1 feet = 12 inches\n",
    "- 1 inch = 2.54 cm"
   ]
  },
  {
   "cell_type": "code",
   "execution_count": 1,
   "id": "2065be7d",
   "metadata": {},
   "outputs": [],
   "source": [
    "def cm(feet=0,inch=0):  # define functon cm with 2 arguments feet and inch which has default value 0.\n",
    "    \"\"\"\n",
    "    Convert feet and inches to cm by using following formula:\n",
    "    1 feet = 12 inches\n",
    "    1 inch = 2.54 cm\n",
    "    \"\"\"\n",
    "    inches_to_cm=inch*2.54   # 1st: Convert inch to cm\n",
    "    feet_to_cm=feet*12*2.54   # 2nd: Convert feet to cm for that first convert feet to inch i.e 12*feet and then cnvert into cm.\n",
    "    return inches_to_cm + feet_to_cm   # when call function return combination of these two.\n"
   ]
  },
  {
   "cell_type": "code",
   "execution_count": 2,
   "id": "13a94e36",
   "metadata": {},
   "outputs": [
    {
     "data": {
      "text/plain": [
       "152.4"
      ]
     },
     "execution_count": 2,
     "metadata": {},
     "output_type": "execute_result"
    }
   ],
   "source": [
    "cm(5)"
   ]
  },
  {
   "cell_type": "code",
   "execution_count": 3,
   "id": "3c0ec701",
   "metadata": {},
   "outputs": [
    {
     "data": {
      "text/plain": [
       "154.94"
      ]
     },
     "execution_count": 3,
     "metadata": {},
     "output_type": "execute_result"
    }
   ],
   "source": [
    "cm(5,1)"
   ]
  },
  {
   "cell_type": "code",
   "execution_count": 4,
   "id": "91eb58f4",
   "metadata": {},
   "outputs": [
    {
     "data": {
      "text/plain": [
       "30.48"
      ]
     },
     "execution_count": 4,
     "metadata": {},
     "output_type": "execute_result"
    }
   ],
   "source": [
    "cm(feet=1)"
   ]
  },
  {
   "cell_type": "code",
   "execution_count": 5,
   "id": "642f160a",
   "metadata": {},
   "outputs": [
    {
     "data": {
      "text/plain": [
       "2.54"
      ]
     },
     "execution_count": 5,
     "metadata": {},
     "output_type": "execute_result"
    }
   ],
   "source": [
    "cm(inch=1)"
   ]
  },
  {
   "cell_type": "code",
   "execution_count": 6,
   "id": "8ed73e9f",
   "metadata": {},
   "outputs": [
    {
     "data": {
      "text/plain": [
       "162.56"
      ]
     },
     "execution_count": 6,
     "metadata": {},
     "output_type": "execute_result"
    }
   ],
   "source": [
    "cm(feet=5,inch=4)"
   ]
  },
  {
   "cell_type": "code",
   "execution_count": 7,
   "id": "bedfd11d",
   "metadata": {},
   "outputs": [
    {
     "data": {
      "text/plain": [
       "172.72"
      ]
     },
     "execution_count": 7,
     "metadata": {},
     "output_type": "execute_result"
    }
   ],
   "source": [
    "cm(inch=8,feet=5)"
   ]
  },
  {
   "cell_type": "code",
   "execution_count": 8,
   "id": "0dbbc8c9",
   "metadata": {},
   "outputs": [
    {
     "name": "stdout",
     "output_type": "stream",
     "text": [
      "Help on function cm in module __main__:\n",
      "\n",
      "cm(feet=0, inch=0)\n",
      "    Convert feet and inches to cm by using following formula:\n",
      "    1 feet = 12 inches\n",
      "    1 inch = 2.54 cm\n",
      "\n"
     ]
    }
   ],
   "source": [
    "help(cm)   # doc_string"
   ]
  },
  {
   "cell_type": "code",
   "execution_count": 9,
   "id": "09286135",
   "metadata": {},
   "outputs": [
    {
     "data": {
      "text/plain": [
       "167.64000000000001"
      ]
     },
     "execution_count": 9,
     "metadata": {},
     "output_type": "execute_result"
    }
   ],
   "source": [
    "cm(feet=5,inch=6)"
   ]
  },
  {
   "cell_type": "markdown",
   "id": "2939f9af",
   "metadata": {},
   "source": [
    "## Write a program to convert cm to feet and inches."
   ]
  },
  {
   "cell_type": "raw",
   "id": "2a2732d8",
   "metadata": {},
   "source": [
    "formula :- 1 feet =30.48 cm=12 inch  \n",
    "           1 inch= 2.54 cm\n",
    "            \n",
    "             cm_to_feet=(1/30.48)  # divide the length value by 30.48\n",
    "             cm_to_inch=(1/2.54)   # divide the length value by 2.54\n"
   ]
  },
  {
   "cell_type": "code",
   "execution_count": 14,
   "id": "89faa1b5",
   "metadata": {},
   "outputs": [],
   "source": [
    "def feet_and_inch(cm):\n",
    "    \"\"\"\n",
    "    Convert feet and inches to centimeter by using following formula:-\n",
    "    \n",
    "    cm_to_feet=(1/30.48)  # divide the length value by 30.48\n",
    "    cm_to_inch=(1/2.54)   # divide the length value by 2.54\n",
    "    \"\"\"\n",
    "    cm_to_feet=(1/30.48)\n",
    "    cm_to_inch=(1/2.54)\n",
    "    \n",
    "    return cm_to_feet + cm_to_inch\n",
    "\n",
    "    "
   ]
  },
  {
   "cell_type": "code",
   "execution_count": 15,
   "id": "c40075b7",
   "metadata": {},
   "outputs": [
    {
     "data": {
      "text/plain": [
       "0.426509186351706"
      ]
     },
     "execution_count": 15,
     "metadata": {},
     "output_type": "execute_result"
    }
   ],
   "source": [
    "feet_and_inch(163)"
   ]
  },
  {
   "cell_type": "code",
   "execution_count": 25,
   "id": "c40f1adc",
   "metadata": {},
   "outputs": [],
   "source": [
    "def feet_and_inch(cm):\n",
    "    \"\"\"\n",
    "    Convert feet and inches to centimeter by using following formula:-\n",
    "    \n",
    "    cm_to_feet=(1/30.48)  # divide the length value by 30.48\n",
    "    cm_to_inch=(1/2.54)   # divide the length value by 2.54\n",
    "    \"\"\"\n",
    "    cm_to_feet=(cm/30.48)\n",
    "    cm_to_inch=(cm/2.54)\n",
    "    \n",
    "    conversion=input(\"Enter What you want to convert into feet or inch: \")\n",
    "    if conversion =='feet':\n",
    "        return cm_to_feet\n",
    "    else:\n",
    "        return cm_to_inch\n",
    "\n",
    "    "
   ]
  },
  {
   "cell_type": "code",
   "execution_count": 26,
   "id": "191a702b",
   "metadata": {},
   "outputs": [
    {
     "name": "stdout",
     "output_type": "stream",
     "text": [
      "Enter What you want to convert into feet or inch: feet\n"
     ]
    },
    {
     "data": {
      "text/plain": [
       "5.347769028871391"
      ]
     },
     "execution_count": 26,
     "metadata": {},
     "output_type": "execute_result"
    }
   ],
   "source": [
    "feet_and_inch(163)"
   ]
  },
  {
   "cell_type": "code",
   "execution_count": 24,
   "id": "f79609ef",
   "metadata": {},
   "outputs": [
    {
     "data": {
      "text/plain": [
       "5.347769028871391"
      ]
     },
     "execution_count": 24,
     "metadata": {},
     "output_type": "execute_result"
    }
   ],
   "source": [
    "163/30.48"
   ]
  },
  {
   "cell_type": "code",
   "execution_count": 27,
   "id": "ad39ca24",
   "metadata": {},
   "outputs": [],
   "source": [
    "def feet_and_inch(cm):\n",
    "    \"\"\"\n",
    "    Convert feet and inches to centimeter by using following formula:-\n",
    "    \n",
    "    cm_to_feet=(1/30.48)  # divide the length value by 30.48\n",
    "    cm_to_inch=(1/2.54)   # divide the length value by 2.54\n",
    "    \"\"\"\n",
    "    cm_to_feet=(cm/30.48)\n",
    "    cm_to_inch=(cm/2.54)\n",
    "    \n",
    "    conversion=input(\"Enter What you want to convert into feet or inch: \")\n",
    "    if conversion =='feet':\n",
    "        return cm_to_feet\n",
    "    else:\n",
    "        return cm_to_inch\n"
   ]
  },
  {
   "cell_type": "code",
   "execution_count": 28,
   "id": "281513d5",
   "metadata": {},
   "outputs": [
    {
     "name": "stdout",
     "output_type": "stream",
     "text": [
      "Enter What you want to convert into feet or inch: inch\n"
     ]
    },
    {
     "data": {
      "text/plain": [
       "64.1732283464567"
      ]
     },
     "execution_count": 28,
     "metadata": {},
     "output_type": "execute_result"
    }
   ],
   "source": [
    "feet_and_inch(163)"
   ]
  },
  {
   "cell_type": "code",
   "execution_count": 29,
   "id": "a2e96d33",
   "metadata": {},
   "outputs": [
    {
     "name": "stdout",
     "output_type": "stream",
     "text": [
      "Help on function feet_and_inch in module __main__:\n",
      "\n",
      "feet_and_inch(cm)\n",
      "    Convert feet and inches to centimeter by using following formula:-\n",
      "    \n",
      "    cm_to_feet=(1/30.48)  # divide the length value by 30.48\n",
      "    cm_to_inch=(1/2.54)   # divide the length value by 2.54\n",
      "\n"
     ]
    }
   ],
   "source": [
    "help(feet_and_inch)"
   ]
  },
  {
   "cell_type": "code",
   "execution_count": 10,
   "id": "9e7353df",
   "metadata": {},
   "outputs": [
    {
     "data": {
      "text/plain": [
       "0.03280839895013123"
      ]
     },
     "execution_count": 10,
     "metadata": {},
     "output_type": "execute_result"
    }
   ],
   "source": [
    "1/30.48"
   ]
  },
  {
   "cell_type": "code",
   "execution_count": 11,
   "id": "8004a043",
   "metadata": {},
   "outputs": [
    {
     "data": {
      "text/plain": [
       "5.31496062992126"
      ]
     },
     "execution_count": 11,
     "metadata": {},
     "output_type": "execute_result"
    }
   ],
   "source": [
    "162/30.48"
   ]
  },
  {
   "cell_type": "code",
   "execution_count": 30,
   "id": "5ddff363",
   "metadata": {},
   "outputs": [],
   "source": [
    "def feet_and_inch(cm):\n",
    "    \"\"\"\n",
    "    Convert feet and inches to centimeter by using following formula:-\n",
    "    \n",
    "    cm_to_feet=(1/30.48)  # divide the length value by 30.48\n",
    "    cm_to_inch=(1/2.54)   # divide the length value by 2.54\n",
    "    \"\"\"\n",
    "    cm_to_feet=(cm/30.48)\n",
    "    cm_to_inch=(cm/2.54)\n",
    "    \n",
    "    conversion=input(\"Enter What you want to convert into feet or inch: \")\n",
    "    if conversion =='feet':\n",
    "        return cm_to_feet\n",
    "    else:\n",
    "        return cm_to_inch\n"
   ]
  },
  {
   "cell_type": "code",
   "execution_count": 31,
   "id": "b6100def",
   "metadata": {},
   "outputs": [
    {
     "name": "stdout",
     "output_type": "stream",
     "text": [
      "Enter What you want to convert into feet or inch: feet\n"
     ]
    },
    {
     "data": {
      "text/plain": [
       "0.03280839895013123"
      ]
     },
     "execution_count": 31,
     "metadata": {},
     "output_type": "execute_result"
    }
   ],
   "source": [
    "feet_and_inch(1)"
   ]
  },
  {
   "cell_type": "code",
   "execution_count": 32,
   "id": "f274a639",
   "metadata": {},
   "outputs": [],
   "source": [
    "def feet_and_inch(cm):\n",
    "    \"\"\"\n",
    "    Convert feet and inches to centimeter by using following formula:-\n",
    "    \n",
    "    cm_to_feet=(1/30.48)  # divide the length value by 30.48\n",
    "    cm_to_inch=(1/2.54)   # divide the length value by 2.54\n",
    "    \"\"\"\n",
    "    cm_to_feet=(cm/30.48)\n",
    "    cm_to_inch=(cm/2.54)\n",
    "    \n",
    "    conversion=input(\"Enter What you want to convert into feet or inch: \")\n",
    "    if conversion =='feet':\n",
    "        return cm_to_feet\n",
    "    else:\n",
    "        return cm_to_inch\n"
   ]
  },
  {
   "cell_type": "code",
   "execution_count": 33,
   "id": "faa8d0b3",
   "metadata": {},
   "outputs": [
    {
     "name": "stdout",
     "output_type": "stream",
     "text": [
      "Enter What you want to convert into feet or inch: inch\n"
     ]
    },
    {
     "data": {
      "text/plain": [
       "0.39370078740157477"
      ]
     },
     "execution_count": 33,
     "metadata": {},
     "output_type": "execute_result"
    }
   ],
   "source": [
    "feet_and_inch(1)"
   ]
  },
  {
   "cell_type": "code",
   "execution_count": null,
   "id": "3cab0ae9",
   "metadata": {},
   "outputs": [],
   "source": []
  }
 ],
 "metadata": {
  "kernelspec": {
   "display_name": "Python 3",
   "language": "python",
   "name": "python3"
  },
  "language_info": {
   "codemirror_mode": {
    "name": "ipython",
    "version": 3
   },
   "file_extension": ".py",
   "mimetype": "text/x-python",
   "name": "python",
   "nbconvert_exporter": "python",
   "pygments_lexer": "ipython3",
   "version": "3.8.8"
  }
 },
 "nbformat": 4,
 "nbformat_minor": 5
}
